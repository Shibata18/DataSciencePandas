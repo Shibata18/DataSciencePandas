{
 "metadata": {
  "language_info": {
   "codemirror_mode": {
    "name": "ipython",
    "version": 3
   },
   "file_extension": ".py",
   "mimetype": "text/x-python",
   "name": "python",
   "nbconvert_exporter": "python",
   "pygments_lexer": "ipython3",
   "version": "3.6.9-final"
  },
  "orig_nbformat": 2,
  "kernelspec": {
   "name": "python_defaultSpec_1598208123559",
   "display_name": "Python 3.6.9 64-bit"
  }
 },
 "nbformat": 4,
 "nbformat_minor": 2,
 "cells": [
  {
   "cell_type": "markdown",
   "metadata": {},
   "source": [
    "# Trabalhando Com Planilhas do Excel \n"
   ]
  },
  {
   "cell_type": "code",
   "execution_count": 4,
   "metadata": {},
   "outputs": [],
   "source": [
    "#importando a biblioteca \n",
    "import pandas as pd"
   ]
  },
  {
   "cell_type": "code",
   "execution_count": 9,
   "metadata": {},
   "outputs": [],
   "source": [
    "#Leitura dos arquivos\n",
    "df1 = pd.read_excel('../datasets/Aracaju.xlsx')\n",
    "df2 = pd.read_excel('../datasets/Fortaleza.xlsx')\n",
    "df3 = pd.read_excel('../datasets/Natal.xlsx')\n",
    "df4 = pd.read_excel('../datasets/Recife.xlsx')\n",
    "df5 = pd.read_excel('../datasets/Salvador.xlsx')\n"
   ]
  },
  {
   "cell_type": "code",
   "execution_count": 11,
   "metadata": {},
   "outputs": [
    {
     "output_type": "execute_result",
     "data": {
      "text/plain": "    Cidade       Data  Vendas  LojaID  Qtde\n0  Aracaju 2018-01-01  142.00    1520     1\n1  Aracaju 2018-01-01   14.21    1522     6\n2  Aracaju 2018-01-01   71.55    1520     1\n3  Aracaju 2018-01-01    3.01    1521     7\n4  Aracaju 2018-01-01   24.51    1522     8",
      "text/html": "<div>\n<style scoped>\n    .dataframe tbody tr th:only-of-type {\n        vertical-align: middle;\n    }\n\n    .dataframe tbody tr th {\n        vertical-align: top;\n    }\n\n    .dataframe thead th {\n        text-align: right;\n    }\n</style>\n<table border=\"1\" class=\"dataframe\">\n  <thead>\n    <tr style=\"text-align: right;\">\n      <th></th>\n      <th>Cidade</th>\n      <th>Data</th>\n      <th>Vendas</th>\n      <th>LojaID</th>\n      <th>Qtde</th>\n    </tr>\n  </thead>\n  <tbody>\n    <tr>\n      <th>0</th>\n      <td>Aracaju</td>\n      <td>2018-01-01</td>\n      <td>142.00</td>\n      <td>1520</td>\n      <td>1</td>\n    </tr>\n    <tr>\n      <th>1</th>\n      <td>Aracaju</td>\n      <td>2018-01-01</td>\n      <td>14.21</td>\n      <td>1522</td>\n      <td>6</td>\n    </tr>\n    <tr>\n      <th>2</th>\n      <td>Aracaju</td>\n      <td>2018-01-01</td>\n      <td>71.55</td>\n      <td>1520</td>\n      <td>1</td>\n    </tr>\n    <tr>\n      <th>3</th>\n      <td>Aracaju</td>\n      <td>2018-01-01</td>\n      <td>3.01</td>\n      <td>1521</td>\n      <td>7</td>\n    </tr>\n    <tr>\n      <th>4</th>\n      <td>Aracaju</td>\n      <td>2018-01-01</td>\n      <td>24.51</td>\n      <td>1522</td>\n      <td>8</td>\n    </tr>\n  </tbody>\n</table>\n</div>"
     },
     "metadata": {},
     "execution_count": 11
    }
   ],
   "source": [
    "#juntando todos os arquivos \n",
    "df = pd.concat([df1,df2,df3,df4,df5])\n",
    "df.head()"
   ]
  },
  {
   "cell_type": "code",
   "execution_count": 12,
   "metadata": {},
   "outputs": [
    {
     "output_type": "execute_result",
     "data": {
      "text/plain": "array(['Aracaju', 'Fortaleza', 'Natal', 'Recife', 'Salvador'],\n      dtype=object)"
     },
     "metadata": {},
     "execution_count": 12
    }
   ],
   "source": [
    "df['Cidade'].unique()"
   ]
  },
  {
   "cell_type": "code",
   "execution_count": 13,
   "metadata": {},
   "outputs": [
    {
     "output_type": "execute_result",
     "data": {
      "text/plain": "       Cidade       Data  Vendas  LojaID  Qtde\n235  Salvador 2019-01-03   41.84    1034     1\n236  Salvador 2019-01-03  126.29    1035     3\n237  Salvador 2019-01-03   38.06    1036     3\n238  Salvador 2019-01-03  139.64    1035     1\n239  Salvador 2019-01-03  161.41    1037     3",
      "text/html": "<div>\n<style scoped>\n    .dataframe tbody tr th:only-of-type {\n        vertical-align: middle;\n    }\n\n    .dataframe tbody tr th {\n        vertical-align: top;\n    }\n\n    .dataframe thead th {\n        text-align: right;\n    }\n</style>\n<table border=\"1\" class=\"dataframe\">\n  <thead>\n    <tr style=\"text-align: right;\">\n      <th></th>\n      <th>Cidade</th>\n      <th>Data</th>\n      <th>Vendas</th>\n      <th>LojaID</th>\n      <th>Qtde</th>\n    </tr>\n  </thead>\n  <tbody>\n    <tr>\n      <th>235</th>\n      <td>Salvador</td>\n      <td>2019-01-03</td>\n      <td>41.84</td>\n      <td>1034</td>\n      <td>1</td>\n    </tr>\n    <tr>\n      <th>236</th>\n      <td>Salvador</td>\n      <td>2019-01-03</td>\n      <td>126.29</td>\n      <td>1035</td>\n      <td>3</td>\n    </tr>\n    <tr>\n      <th>237</th>\n      <td>Salvador</td>\n      <td>2019-01-03</td>\n      <td>38.06</td>\n      <td>1036</td>\n      <td>3</td>\n    </tr>\n    <tr>\n      <th>238</th>\n      <td>Salvador</td>\n      <td>2019-01-03</td>\n      <td>139.64</td>\n      <td>1035</td>\n      <td>1</td>\n    </tr>\n    <tr>\n      <th>239</th>\n      <td>Salvador</td>\n      <td>2019-01-03</td>\n      <td>161.41</td>\n      <td>1037</td>\n      <td>3</td>\n    </tr>\n  </tbody>\n</table>\n</div>"
     },
     "metadata": {},
     "execution_count": 13
    }
   ],
   "source": [
    "df.tail()"
   ]
  },
  {
   "cell_type": "code",
   "execution_count": 14,
   "metadata": {},
   "outputs": [
    {
     "output_type": "execute_result",
     "data": {
      "text/plain": "Cidade            object\nData      datetime64[ns]\nVendas           float64\nLojaID             int64\nQtde               int64\ndtype: object"
     },
     "metadata": {},
     "execution_count": 14
    }
   ],
   "source": [
    "df.dtypes"
   ]
  },
  {
   "cell_type": "code",
   "execution_count": 15,
   "metadata": {},
   "outputs": [
    {
     "output_type": "execute_result",
     "data": {
      "text/plain": "        Cidade       Data  Vendas  LojaID  Qtde\n94     Aracaju 2018-01-01  198.24    1521     9\n166   Salvador 2019-01-02  111.72    1035     3\n116   Salvador 2019-03-02   41.78    1034     3\n106  Fortaleza 2019-01-01   28.42    1002     3\n53     Aracaju 2018-01-01    8.64    1522     2",
      "text/html": "<div>\n<style scoped>\n    .dataframe tbody tr th:only-of-type {\n        vertical-align: middle;\n    }\n\n    .dataframe tbody tr th {\n        vertical-align: top;\n    }\n\n    .dataframe thead th {\n        text-align: right;\n    }\n</style>\n<table border=\"1\" class=\"dataframe\">\n  <thead>\n    <tr style=\"text-align: right;\">\n      <th></th>\n      <th>Cidade</th>\n      <th>Data</th>\n      <th>Vendas</th>\n      <th>LojaID</th>\n      <th>Qtde</th>\n    </tr>\n  </thead>\n  <tbody>\n    <tr>\n      <th>94</th>\n      <td>Aracaju</td>\n      <td>2018-01-01</td>\n      <td>198.24</td>\n      <td>1521</td>\n      <td>9</td>\n    </tr>\n    <tr>\n      <th>166</th>\n      <td>Salvador</td>\n      <td>2019-01-02</td>\n      <td>111.72</td>\n      <td>1035</td>\n      <td>3</td>\n    </tr>\n    <tr>\n      <th>116</th>\n      <td>Salvador</td>\n      <td>2019-03-02</td>\n      <td>41.78</td>\n      <td>1034</td>\n      <td>3</td>\n    </tr>\n    <tr>\n      <th>106</th>\n      <td>Fortaleza</td>\n      <td>2019-01-01</td>\n      <td>28.42</td>\n      <td>1002</td>\n      <td>3</td>\n    </tr>\n    <tr>\n      <th>53</th>\n      <td>Aracaju</td>\n      <td>2018-01-01</td>\n      <td>8.64</td>\n      <td>1522</td>\n      <td>2</td>\n    </tr>\n  </tbody>\n</table>\n</div>"
     },
     "metadata": {},
     "execution_count": 15
    }
   ],
   "source": [
    "df.sample(5)"
   ]
  },
  {
   "cell_type": "code",
   "execution_count": 16,
   "metadata": {},
   "outputs": [],
   "source": [
    "#Alterando o tipo de dado da coluna LojaID\n",
    "df['LojaID'] = df['LojaID'].astype(\"object\")"
   ]
  },
  {
   "cell_type": "code",
   "execution_count": 17,
   "metadata": {},
   "outputs": [
    {
     "output_type": "execute_result",
     "data": {
      "text/plain": "Cidade            object\nData      datetime64[ns]\nVendas           float64\nLojaID            object\nQtde               int64\ndtype: object"
     },
     "metadata": {},
     "execution_count": 17
    }
   ],
   "source": [
    "df.dtypes"
   ]
  },
  {
   "cell_type": "code",
   "execution_count": 18,
   "metadata": {},
   "outputs": [
    {
     "output_type": "execute_result",
     "data": {
      "text/plain": "    Cidade       Data  Vendas LojaID  Qtde\n0  Aracaju 2018-01-01  142.00   1520     1\n1  Aracaju 2018-01-01   14.21   1522     6\n2  Aracaju 2018-01-01   71.55   1520     1\n3  Aracaju 2018-01-01    3.01   1521     7\n4  Aracaju 2018-01-01   24.51   1522     8",
      "text/html": "<div>\n<style scoped>\n    .dataframe tbody tr th:only-of-type {\n        vertical-align: middle;\n    }\n\n    .dataframe tbody tr th {\n        vertical-align: top;\n    }\n\n    .dataframe thead th {\n        text-align: right;\n    }\n</style>\n<table border=\"1\" class=\"dataframe\">\n  <thead>\n    <tr style=\"text-align: right;\">\n      <th></th>\n      <th>Cidade</th>\n      <th>Data</th>\n      <th>Vendas</th>\n      <th>LojaID</th>\n      <th>Qtde</th>\n    </tr>\n  </thead>\n  <tbody>\n    <tr>\n      <th>0</th>\n      <td>Aracaju</td>\n      <td>2018-01-01</td>\n      <td>142.00</td>\n      <td>1520</td>\n      <td>1</td>\n    </tr>\n    <tr>\n      <th>1</th>\n      <td>Aracaju</td>\n      <td>2018-01-01</td>\n      <td>14.21</td>\n      <td>1522</td>\n      <td>6</td>\n    </tr>\n    <tr>\n      <th>2</th>\n      <td>Aracaju</td>\n      <td>2018-01-01</td>\n      <td>71.55</td>\n      <td>1520</td>\n      <td>1</td>\n    </tr>\n    <tr>\n      <th>3</th>\n      <td>Aracaju</td>\n      <td>2018-01-01</td>\n      <td>3.01</td>\n      <td>1521</td>\n      <td>7</td>\n    </tr>\n    <tr>\n      <th>4</th>\n      <td>Aracaju</td>\n      <td>2018-01-01</td>\n      <td>24.51</td>\n      <td>1522</td>\n      <td>8</td>\n    </tr>\n  </tbody>\n</table>\n</div>"
     },
     "metadata": {},
     "execution_count": 18
    }
   ],
   "source": [
    "df.head()"
   ]
  },
  {
   "cell_type": "markdown",
   "metadata": {},
   "source": [
    "Tratando de Valores nulos"
   ]
  },
  {
   "cell_type": "code",
   "execution_count": 19,
   "metadata": {},
   "outputs": [
    {
     "output_type": "execute_result",
     "data": {
      "text/plain": "Cidade    0\nData      0\nVendas    0\nLojaID    0\nQtde      0\ndtype: int64"
     },
     "metadata": {},
     "execution_count": 19
    }
   ],
   "source": [
    "#Consultando linhas com valores faltantes\n",
    "df.isnull().sum()"
   ]
  },
  {
   "cell_type": "code",
   "execution_count": 20,
   "metadata": {},
   "outputs": [],
   "source": [
    "#Substituindo os valores nulos pela média\n",
    "df['Vendas'].fillna(df['Vendas'].mean(),inplace=True)"
   ]
  },
  {
   "cell_type": "code",
   "execution_count": 22,
   "metadata": {},
   "outputs": [
    {
     "output_type": "execute_result",
     "data": {
      "text/plain": "Cidade    0\nData      0\nVendas    0\nLojaID    0\nQtde      0\ndtype: int64"
     },
     "metadata": {},
     "execution_count": 22
    }
   ],
   "source": [
    "df.isnull().sum()"
   ]
  },
  {
   "cell_type": "code",
   "execution_count": 23,
   "metadata": {},
   "outputs": [],
   "source": [
    "#Substituindo os valores nulos por zero \n",
    "df['Vendas'].fillna(0,inplace=True)"
   ]
  },
  {
   "cell_type": "code",
   "execution_count": 24,
   "metadata": {},
   "outputs": [],
   "source": [
    "#Apagando as linhas com valores nulos com base em uma coluna\n",
    "df.dropna(subset=['Vendas'],inplace=True)"
   ]
  },
  {
   "cell_type": "code",
   "execution_count": 25,
   "metadata": {},
   "outputs": [],
   "source": [
    "#Apagando as linhas com valores nulos \n",
    "df.dropna(inplace=True)"
   ]
  },
  {
   "cell_type": "code",
   "execution_count": 26,
   "metadata": {},
   "outputs": [],
   "source": [
    "#Removendo linhas que estejam com valores faltantes em todas as colunas\n",
    "df.dropna(how='all',inplace=True)"
   ]
  },
  {
   "cell_type": "markdown",
   "metadata": {},
   "source": [
    "Criando Colunas novas"
   ]
  },
  {
   "cell_type": "code",
   "execution_count": 27,
   "metadata": {},
   "outputs": [],
   "source": [
    "#Criando a coluna de Receita\n",
    "df['Receita'] = df['Vendas'].mul(df['Qtde'])"
   ]
  },
  {
   "cell_type": "code",
   "execution_count": 28,
   "metadata": {},
   "outputs": [
    {
     "output_type": "execute_result",
     "data": {
      "text/plain": "    Cidade       Data  Vendas LojaID  Qtde  Receita\n0  Aracaju 2018-01-01  142.00   1520     1   142.00\n1  Aracaju 2018-01-01   14.21   1522     6    85.26\n2  Aracaju 2018-01-01   71.55   1520     1    71.55\n3  Aracaju 2018-01-01    3.01   1521     7    21.07\n4  Aracaju 2018-01-01   24.51   1522     8   196.08",
      "text/html": "<div>\n<style scoped>\n    .dataframe tbody tr th:only-of-type {\n        vertical-align: middle;\n    }\n\n    .dataframe tbody tr th {\n        vertical-align: top;\n    }\n\n    .dataframe thead th {\n        text-align: right;\n    }\n</style>\n<table border=\"1\" class=\"dataframe\">\n  <thead>\n    <tr style=\"text-align: right;\">\n      <th></th>\n      <th>Cidade</th>\n      <th>Data</th>\n      <th>Vendas</th>\n      <th>LojaID</th>\n      <th>Qtde</th>\n      <th>Receita</th>\n    </tr>\n  </thead>\n  <tbody>\n    <tr>\n      <th>0</th>\n      <td>Aracaju</td>\n      <td>2018-01-01</td>\n      <td>142.00</td>\n      <td>1520</td>\n      <td>1</td>\n      <td>142.00</td>\n    </tr>\n    <tr>\n      <th>1</th>\n      <td>Aracaju</td>\n      <td>2018-01-01</td>\n      <td>14.21</td>\n      <td>1522</td>\n      <td>6</td>\n      <td>85.26</td>\n    </tr>\n    <tr>\n      <th>2</th>\n      <td>Aracaju</td>\n      <td>2018-01-01</td>\n      <td>71.55</td>\n      <td>1520</td>\n      <td>1</td>\n      <td>71.55</td>\n    </tr>\n    <tr>\n      <th>3</th>\n      <td>Aracaju</td>\n      <td>2018-01-01</td>\n      <td>3.01</td>\n      <td>1521</td>\n      <td>7</td>\n      <td>21.07</td>\n    </tr>\n    <tr>\n      <th>4</th>\n      <td>Aracaju</td>\n      <td>2018-01-01</td>\n      <td>24.51</td>\n      <td>1522</td>\n      <td>8</td>\n      <td>196.08</td>\n    </tr>\n  </tbody>\n</table>\n</div>"
     },
     "metadata": {},
     "execution_count": 28
    }
   ],
   "source": [
    "df.head()"
   ]
  },
  {
   "cell_type": "code",
   "execution_count": 30,
   "metadata": {},
   "outputs": [],
   "source": [
    "df['Receitas/Vendas'] = df['Receita']/df['Vendas']"
   ]
  },
  {
   "cell_type": "code",
   "execution_count": 31,
   "metadata": {},
   "outputs": [
    {
     "output_type": "execute_result",
     "data": {
      "text/plain": "    Cidade       Data  Vendas LojaID  Qtde  Receita  Receitas/Vendas\n0  Aracaju 2018-01-01  142.00   1520     1   142.00              1.0\n1  Aracaju 2018-01-01   14.21   1522     6    85.26              6.0\n2  Aracaju 2018-01-01   71.55   1520     1    71.55              1.0\n3  Aracaju 2018-01-01    3.01   1521     7    21.07              7.0\n4  Aracaju 2018-01-01   24.51   1522     8   196.08              8.0",
      "text/html": "<div>\n<style scoped>\n    .dataframe tbody tr th:only-of-type {\n        vertical-align: middle;\n    }\n\n    .dataframe tbody tr th {\n        vertical-align: top;\n    }\n\n    .dataframe thead th {\n        text-align: right;\n    }\n</style>\n<table border=\"1\" class=\"dataframe\">\n  <thead>\n    <tr style=\"text-align: right;\">\n      <th></th>\n      <th>Cidade</th>\n      <th>Data</th>\n      <th>Vendas</th>\n      <th>LojaID</th>\n      <th>Qtde</th>\n      <th>Receita</th>\n      <th>Receitas/Vendas</th>\n    </tr>\n  </thead>\n  <tbody>\n    <tr>\n      <th>0</th>\n      <td>Aracaju</td>\n      <td>2018-01-01</td>\n      <td>142.00</td>\n      <td>1520</td>\n      <td>1</td>\n      <td>142.00</td>\n      <td>1.0</td>\n    </tr>\n    <tr>\n      <th>1</th>\n      <td>Aracaju</td>\n      <td>2018-01-01</td>\n      <td>14.21</td>\n      <td>1522</td>\n      <td>6</td>\n      <td>85.26</td>\n      <td>6.0</td>\n    </tr>\n    <tr>\n      <th>2</th>\n      <td>Aracaju</td>\n      <td>2018-01-01</td>\n      <td>71.55</td>\n      <td>1520</td>\n      <td>1</td>\n      <td>71.55</td>\n      <td>1.0</td>\n    </tr>\n    <tr>\n      <th>3</th>\n      <td>Aracaju</td>\n      <td>2018-01-01</td>\n      <td>3.01</td>\n      <td>1521</td>\n      <td>7</td>\n      <td>21.07</td>\n      <td>7.0</td>\n    </tr>\n    <tr>\n      <th>4</th>\n      <td>Aracaju</td>\n      <td>2018-01-01</td>\n      <td>24.51</td>\n      <td>1522</td>\n      <td>8</td>\n      <td>196.08</td>\n      <td>8.0</td>\n    </tr>\n  </tbody>\n</table>\n</div>"
     },
     "metadata": {},
     "execution_count": 31
    }
   ],
   "source": [
    "df.head()"
   ]
  },
  {
   "cell_type": "code",
   "execution_count": 32,
   "metadata": {},
   "outputs": [
    {
     "output_type": "execute_result",
     "data": {
      "text/plain": "3544.0"
     },
     "metadata": {},
     "execution_count": 32
    }
   ],
   "source": [
    "#Retornando a maior receita\n",
    "df['Receita'].max()"
   ]
  },
  {
   "cell_type": "code",
   "execution_count": 33,
   "metadata": {},
   "outputs": [
    {
     "output_type": "execute_result",
     "data": {
      "text/plain": "3.34"
     },
     "metadata": {},
     "execution_count": 33
    }
   ],
   "source": [
    "#Retornando a menor \n",
    "df['Receita'].min()"
   ]
  },
  {
   "cell_type": "code",
   "execution_count": 34,
   "metadata": {},
   "outputs": [
    {
     "output_type": "execute_result",
     "data": {
      "text/plain": "   Cidade       Data  Vendas LojaID  Qtde  Receita  Receitas/Vendas\n7   Natal 2019-03-18   886.0    853     4   3544.0              4.0\n51  Natal 2018-01-21   859.0    852     4   3436.0              4.0\n55  Natal 2019-01-08   859.0    854     4   3436.0              4.0",
      "text/html": "<div>\n<style scoped>\n    .dataframe tbody tr th:only-of-type {\n        vertical-align: middle;\n    }\n\n    .dataframe tbody tr th {\n        vertical-align: top;\n    }\n\n    .dataframe thead th {\n        text-align: right;\n    }\n</style>\n<table border=\"1\" class=\"dataframe\">\n  <thead>\n    <tr style=\"text-align: right;\">\n      <th></th>\n      <th>Cidade</th>\n      <th>Data</th>\n      <th>Vendas</th>\n      <th>LojaID</th>\n      <th>Qtde</th>\n      <th>Receita</th>\n      <th>Receitas/Vendas</th>\n    </tr>\n  </thead>\n  <tbody>\n    <tr>\n      <th>7</th>\n      <td>Natal</td>\n      <td>2019-03-18</td>\n      <td>886.0</td>\n      <td>853</td>\n      <td>4</td>\n      <td>3544.0</td>\n      <td>4.0</td>\n    </tr>\n    <tr>\n      <th>51</th>\n      <td>Natal</td>\n      <td>2018-01-21</td>\n      <td>859.0</td>\n      <td>852</td>\n      <td>4</td>\n      <td>3436.0</td>\n      <td>4.0</td>\n    </tr>\n    <tr>\n      <th>55</th>\n      <td>Natal</td>\n      <td>2019-01-08</td>\n      <td>859.0</td>\n      <td>854</td>\n      <td>4</td>\n      <td>3436.0</td>\n      <td>4.0</td>\n    </tr>\n  </tbody>\n</table>\n</div>"
     },
     "metadata": {},
     "execution_count": 34
    }
   ],
   "source": [
    "#nlargest , retorna os três primeiros com maior valor na coluna receita\n",
    "df.nlargest(3,'Receita')"
   ]
  },
  {
   "cell_type": "code",
   "execution_count": 35,
   "metadata": {},
   "outputs": [
    {
     "output_type": "execute_result",
     "data": {
      "text/plain": "      Cidade       Data  Vendas LojaID  Qtde  Receita  Receitas/Vendas\n118  Aracaju 2018-01-01    3.34   1522     1     3.34              1.0\n65    Recife 2019-01-01    4.01    981     1     4.01              1.0\n92     Natal 2019-01-02    4.57   1035     1     4.57              1.0",
      "text/html": "<div>\n<style scoped>\n    .dataframe tbody tr th:only-of-type {\n        vertical-align: middle;\n    }\n\n    .dataframe tbody tr th {\n        vertical-align: top;\n    }\n\n    .dataframe thead th {\n        text-align: right;\n    }\n</style>\n<table border=\"1\" class=\"dataframe\">\n  <thead>\n    <tr style=\"text-align: right;\">\n      <th></th>\n      <th>Cidade</th>\n      <th>Data</th>\n      <th>Vendas</th>\n      <th>LojaID</th>\n      <th>Qtde</th>\n      <th>Receita</th>\n      <th>Receitas/Vendas</th>\n    </tr>\n  </thead>\n  <tbody>\n    <tr>\n      <th>118</th>\n      <td>Aracaju</td>\n      <td>2018-01-01</td>\n      <td>3.34</td>\n      <td>1522</td>\n      <td>1</td>\n      <td>3.34</td>\n      <td>1.0</td>\n    </tr>\n    <tr>\n      <th>65</th>\n      <td>Recife</td>\n      <td>2019-01-01</td>\n      <td>4.01</td>\n      <td>981</td>\n      <td>1</td>\n      <td>4.01</td>\n      <td>1.0</td>\n    </tr>\n    <tr>\n      <th>92</th>\n      <td>Natal</td>\n      <td>2019-01-02</td>\n      <td>4.57</td>\n      <td>1035</td>\n      <td>1</td>\n      <td>4.57</td>\n      <td>1.0</td>\n    </tr>\n  </tbody>\n</table>\n</div>"
     },
     "metadata": {},
     "execution_count": 35
    }
   ],
   "source": [
    "#nsmallest , retorna os três primeiros com menor valor na coluna receita\n",
    "df.nsmallest(3,'Receita')"
   ]
  },
  {
   "cell_type": "code",
   "execution_count": 37,
   "metadata": {},
   "outputs": [
    {
     "output_type": "execute_result",
     "data": {
      "text/plain": "Cidade\nAracaju       48748.25\nFortaleza     37913.97\nNatal        167227.52\nRecife        51936.51\nSalvador      40596.73\nName: Receita, dtype: float64"
     },
     "metadata": {},
     "execution_count": 37
    }
   ],
   "source": [
    "#Agrupamento por cidade\n",
    "df.groupby('Cidade')['Receita'].sum()"
   ]
  },
  {
   "cell_type": "code",
   "execution_count": 38,
   "metadata": {},
   "outputs": [
    {
     "output_type": "execute_result",
     "data": {
      "text/plain": "   Cidade       Data  Vendas LojaID  Qtde  Receita  Receitas/Vendas\n7   Natal 2019-03-18   886.0    853     4   3544.0              4.0\n55  Natal 2019-01-08   859.0    854     4   3436.0              4.0\n51  Natal 2018-01-21   859.0    852     4   3436.0              4.0\n30  Natal 2018-10-02   856.0    853     4   3424.0              4.0\n41  Natal 2018-05-20   835.0    852     4   3340.0              4.0\n38  Natal 2018-02-25   828.0    852     4   3312.0              4.0\n10  Natal 2018-10-27   828.0    852     4   3312.0              4.0\n69  Natal 2019-03-24   817.0    852     4   3268.0              4.0\n62  Natal 2018-02-10   793.0    854     4   3172.0              4.0\n52  Natal 2018-04-27   778.0    854     4   3112.0              4.0",
      "text/html": "<div>\n<style scoped>\n    .dataframe tbody tr th:only-of-type {\n        vertical-align: middle;\n    }\n\n    .dataframe tbody tr th {\n        vertical-align: top;\n    }\n\n    .dataframe thead th {\n        text-align: right;\n    }\n</style>\n<table border=\"1\" class=\"dataframe\">\n  <thead>\n    <tr style=\"text-align: right;\">\n      <th></th>\n      <th>Cidade</th>\n      <th>Data</th>\n      <th>Vendas</th>\n      <th>LojaID</th>\n      <th>Qtde</th>\n      <th>Receita</th>\n      <th>Receitas/Vendas</th>\n    </tr>\n  </thead>\n  <tbody>\n    <tr>\n      <th>7</th>\n      <td>Natal</td>\n      <td>2019-03-18</td>\n      <td>886.0</td>\n      <td>853</td>\n      <td>4</td>\n      <td>3544.0</td>\n      <td>4.0</td>\n    </tr>\n    <tr>\n      <th>55</th>\n      <td>Natal</td>\n      <td>2019-01-08</td>\n      <td>859.0</td>\n      <td>854</td>\n      <td>4</td>\n      <td>3436.0</td>\n      <td>4.0</td>\n    </tr>\n    <tr>\n      <th>51</th>\n      <td>Natal</td>\n      <td>2018-01-21</td>\n      <td>859.0</td>\n      <td>852</td>\n      <td>4</td>\n      <td>3436.0</td>\n      <td>4.0</td>\n    </tr>\n    <tr>\n      <th>30</th>\n      <td>Natal</td>\n      <td>2018-10-02</td>\n      <td>856.0</td>\n      <td>853</td>\n      <td>4</td>\n      <td>3424.0</td>\n      <td>4.0</td>\n    </tr>\n    <tr>\n      <th>41</th>\n      <td>Natal</td>\n      <td>2018-05-20</td>\n      <td>835.0</td>\n      <td>852</td>\n      <td>4</td>\n      <td>3340.0</td>\n      <td>4.0</td>\n    </tr>\n    <tr>\n      <th>38</th>\n      <td>Natal</td>\n      <td>2018-02-25</td>\n      <td>828.0</td>\n      <td>852</td>\n      <td>4</td>\n      <td>3312.0</td>\n      <td>4.0</td>\n    </tr>\n    <tr>\n      <th>10</th>\n      <td>Natal</td>\n      <td>2018-10-27</td>\n      <td>828.0</td>\n      <td>852</td>\n      <td>4</td>\n      <td>3312.0</td>\n      <td>4.0</td>\n    </tr>\n    <tr>\n      <th>69</th>\n      <td>Natal</td>\n      <td>2019-03-24</td>\n      <td>817.0</td>\n      <td>852</td>\n      <td>4</td>\n      <td>3268.0</td>\n      <td>4.0</td>\n    </tr>\n    <tr>\n      <th>62</th>\n      <td>Natal</td>\n      <td>2018-02-10</td>\n      <td>793.0</td>\n      <td>854</td>\n      <td>4</td>\n      <td>3172.0</td>\n      <td>4.0</td>\n    </tr>\n    <tr>\n      <th>52</th>\n      <td>Natal</td>\n      <td>2018-04-27</td>\n      <td>778.0</td>\n      <td>854</td>\n      <td>4</td>\n      <td>3112.0</td>\n      <td>4.0</td>\n    </tr>\n  </tbody>\n</table>\n</div>"
     },
     "metadata": {},
     "execution_count": 38
    }
   ],
   "source": [
    "#Ordenando o conjunto de dados\n",
    "df.sort_values(\"Receita\",ascending=False).head(10)"
   ]
  },
  {
   "cell_type": "code",
   "execution_count": null,
   "metadata": {},
   "outputs": [],
   "source": []
  }
 ]
}