{
 "metadata": {
  "language_info": {
   "codemirror_mode": {
    "name": "ipython",
    "version": 3
   },
   "file_extension": ".py",
   "mimetype": "text/x-python",
   "name": "python",
   "nbconvert_exporter": "python",
   "pygments_lexer": "ipython3",
   "version": "3.6.9-final"
  },
  "orig_nbformat": 2,
  "kernelspec": {
   "name": "python_defaultSpec_1598210936745",
   "display_name": "Python 3.6.9 64-bit"
  }
 },
 "nbformat": 4,
 "nbformat_minor": 2,
 "cells": [
  {
   "cell_type": "markdown",
   "metadata": {},
   "source": [
    "# Trabalhando Com datas"
   ]
  },
  {
   "cell_type": "code",
   "execution_count": 1,
   "metadata": {},
   "outputs": [],
   "source": [
    "import pandas as pd"
   ]
  },
  {
   "cell_type": "code",
   "execution_count": 2,
   "metadata": {},
   "outputs": [],
   "source": [
    "#Leitura dos arquivos\n",
    "df1 = pd.read_excel('../datasets/Aracaju.xlsx')\n",
    "df2 = pd.read_excel('../datasets/Fortaleza.xlsx')\n",
    "df3 = pd.read_excel('../datasets/Natal.xlsx')\n",
    "df4 = pd.read_excel('../datasets/Recife.xlsx')\n",
    "df5 = pd.read_excel('../datasets/Salvador.xlsx')\n"
   ]
  },
  {
   "cell_type": "code",
   "execution_count": 3,
   "metadata": {},
   "outputs": [
    {
     "output_type": "execute_result",
     "data": {
      "text/plain": "    Cidade       Data  Vendas  LojaID  Qtde\n0  Aracaju 2018-01-01  142.00    1520     1\n1  Aracaju 2018-01-01   14.21    1522     6\n2  Aracaju 2018-01-01   71.55    1520     1\n3  Aracaju 2018-01-01    3.01    1521     7\n4  Aracaju 2018-01-01   24.51    1522     8",
      "text/html": "<div>\n<style scoped>\n    .dataframe tbody tr th:only-of-type {\n        vertical-align: middle;\n    }\n\n    .dataframe tbody tr th {\n        vertical-align: top;\n    }\n\n    .dataframe thead th {\n        text-align: right;\n    }\n</style>\n<table border=\"1\" class=\"dataframe\">\n  <thead>\n    <tr style=\"text-align: right;\">\n      <th></th>\n      <th>Cidade</th>\n      <th>Data</th>\n      <th>Vendas</th>\n      <th>LojaID</th>\n      <th>Qtde</th>\n    </tr>\n  </thead>\n  <tbody>\n    <tr>\n      <th>0</th>\n      <td>Aracaju</td>\n      <td>2018-01-01</td>\n      <td>142.00</td>\n      <td>1520</td>\n      <td>1</td>\n    </tr>\n    <tr>\n      <th>1</th>\n      <td>Aracaju</td>\n      <td>2018-01-01</td>\n      <td>14.21</td>\n      <td>1522</td>\n      <td>6</td>\n    </tr>\n    <tr>\n      <th>2</th>\n      <td>Aracaju</td>\n      <td>2018-01-01</td>\n      <td>71.55</td>\n      <td>1520</td>\n      <td>1</td>\n    </tr>\n    <tr>\n      <th>3</th>\n      <td>Aracaju</td>\n      <td>2018-01-01</td>\n      <td>3.01</td>\n      <td>1521</td>\n      <td>7</td>\n    </tr>\n    <tr>\n      <th>4</th>\n      <td>Aracaju</td>\n      <td>2018-01-01</td>\n      <td>24.51</td>\n      <td>1522</td>\n      <td>8</td>\n    </tr>\n  </tbody>\n</table>\n</div>"
     },
     "metadata": {},
     "execution_count": 3
    }
   ],
   "source": [
    "df = pd.concat([df1,df2,df3,df4,df5])\n",
    "df.head()"
   ]
  },
  {
   "cell_type": "code",
   "execution_count": 4,
   "metadata": {},
   "outputs": [],
   "source": [
    "df['Receita'] = df['Vendas'].mul(df['Qtde'])"
   ]
  },
  {
   "cell_type": "code",
   "execution_count": 5,
   "metadata": {},
   "outputs": [
    {
     "output_type": "execute_result",
     "data": {
      "text/plain": "    Cidade       Data  Vendas  LojaID  Qtde  Receita\n0  Aracaju 2018-01-01  142.00    1520     1   142.00\n1  Aracaju 2018-01-01   14.21    1522     6    85.26\n2  Aracaju 2018-01-01   71.55    1520     1    71.55\n3  Aracaju 2018-01-01    3.01    1521     7    21.07\n4  Aracaju 2018-01-01   24.51    1522     8   196.08",
      "text/html": "<div>\n<style scoped>\n    .dataframe tbody tr th:only-of-type {\n        vertical-align: middle;\n    }\n\n    .dataframe tbody tr th {\n        vertical-align: top;\n    }\n\n    .dataframe thead th {\n        text-align: right;\n    }\n</style>\n<table border=\"1\" class=\"dataframe\">\n  <thead>\n    <tr style=\"text-align: right;\">\n      <th></th>\n      <th>Cidade</th>\n      <th>Data</th>\n      <th>Vendas</th>\n      <th>LojaID</th>\n      <th>Qtde</th>\n      <th>Receita</th>\n    </tr>\n  </thead>\n  <tbody>\n    <tr>\n      <th>0</th>\n      <td>Aracaju</td>\n      <td>2018-01-01</td>\n      <td>142.00</td>\n      <td>1520</td>\n      <td>1</td>\n      <td>142.00</td>\n    </tr>\n    <tr>\n      <th>1</th>\n      <td>Aracaju</td>\n      <td>2018-01-01</td>\n      <td>14.21</td>\n      <td>1522</td>\n      <td>6</td>\n      <td>85.26</td>\n    </tr>\n    <tr>\n      <th>2</th>\n      <td>Aracaju</td>\n      <td>2018-01-01</td>\n      <td>71.55</td>\n      <td>1520</td>\n      <td>1</td>\n      <td>71.55</td>\n    </tr>\n    <tr>\n      <th>3</th>\n      <td>Aracaju</td>\n      <td>2018-01-01</td>\n      <td>3.01</td>\n      <td>1521</td>\n      <td>7</td>\n      <td>21.07</td>\n    </tr>\n    <tr>\n      <th>4</th>\n      <td>Aracaju</td>\n      <td>2018-01-01</td>\n      <td>24.51</td>\n      <td>1522</td>\n      <td>8</td>\n      <td>196.08</td>\n    </tr>\n  </tbody>\n</table>\n</div>"
     },
     "metadata": {},
     "execution_count": 5
    }
   ],
   "source": [
    "df.head()"
   ]
  },
  {
   "cell_type": "code",
   "execution_count": 6,
   "metadata": {},
   "outputs": [
    {
     "output_type": "execute_result",
     "data": {
      "text/plain": "Cidade             object\nData       datetime64[ns]\nVendas            float64\nLojaID              int64\nQtde                int64\nReceita           float64\ndtype: object"
     },
     "metadata": {},
     "execution_count": 6
    }
   ],
   "source": [
    "df.dtypes"
   ]
  },
  {
   "cell_type": "code",
   "execution_count": 9,
   "metadata": {},
   "outputs": [],
   "source": [
    "df['Data'] = df['Data'].astype('int64')"
   ]
  },
  {
   "cell_type": "code",
   "execution_count": 10,
   "metadata": {},
   "outputs": [
    {
     "output_type": "execute_result",
     "data": {
      "text/plain": "Cidade      object\nData         int64\nVendas     float64\nLojaID       int64\nQtde         int64\nReceita    float64\ndtype: object"
     },
     "metadata": {},
     "execution_count": 10
    }
   ],
   "source": [
    "df.dtypes"
   ]
  },
  {
   "cell_type": "code",
   "execution_count": 11,
   "metadata": {},
   "outputs": [],
   "source": [
    "#Transformando coluna de data em data\n",
    "df['Data'] = pd.to_datetime(df['Data'])"
   ]
  },
  {
   "cell_type": "code",
   "execution_count": 12,
   "metadata": {},
   "outputs": [
    {
     "output_type": "execute_result",
     "data": {
      "text/plain": "Cidade             object\nData       datetime64[ns]\nVendas            float64\nLojaID              int64\nQtde                int64\nReceita           float64\ndtype: object"
     },
     "metadata": {},
     "execution_count": 12
    }
   ],
   "source": [
    "df.dtypes"
   ]
  },
  {
   "cell_type": "code",
   "execution_count": 13,
   "metadata": {},
   "outputs": [
    {
     "output_type": "execute_result",
     "data": {
      "text/plain": "Data\n2018    118176.53\n2019    228246.45\nName: Receita, dtype: float64"
     },
     "metadata": {},
     "execution_count": 13
    }
   ],
   "source": [
    "#Agrupamento por ano \n",
    "df.groupby(df['Data'].dt.year)['Receita'].sum()"
   ]
  },
  {
   "cell_type": "code",
   "execution_count": 16,
   "metadata": {},
   "outputs": [],
   "source": [
    "#Criando uma nova coluna com o ano\n",
    "df['Ano_venda'] = df['Data'].dt.year"
   ]
  },
  {
   "cell_type": "code",
   "execution_count": 17,
   "metadata": {},
   "outputs": [
    {
     "output_type": "execute_result",
     "data": {
      "text/plain": "        Cidade       Data  Vendas  LojaID  Qtde  Receita  Ano_venda\n36   Fortaleza 2019-01-01   36.31    1004     2    72.62       2019\n63    Salvador 2019-01-01  166.59    1036     1   166.59       2019\n2       Recife 2019-02-10   12.94     983     5    64.70       2019\n111  Fortaleza 2019-03-02    8.00     981     3    24.00       2019\n187      Natal 2019-01-02    3.85    1035     3    11.55       2019",
      "text/html": "<div>\n<style scoped>\n    .dataframe tbody tr th:only-of-type {\n        vertical-align: middle;\n    }\n\n    .dataframe tbody tr th {\n        vertical-align: top;\n    }\n\n    .dataframe thead th {\n        text-align: right;\n    }\n</style>\n<table border=\"1\" class=\"dataframe\">\n  <thead>\n    <tr style=\"text-align: right;\">\n      <th></th>\n      <th>Cidade</th>\n      <th>Data</th>\n      <th>Vendas</th>\n      <th>LojaID</th>\n      <th>Qtde</th>\n      <th>Receita</th>\n      <th>Ano_venda</th>\n    </tr>\n  </thead>\n  <tbody>\n    <tr>\n      <th>36</th>\n      <td>Fortaleza</td>\n      <td>2019-01-01</td>\n      <td>36.31</td>\n      <td>1004</td>\n      <td>2</td>\n      <td>72.62</td>\n      <td>2019</td>\n    </tr>\n    <tr>\n      <th>63</th>\n      <td>Salvador</td>\n      <td>2019-01-01</td>\n      <td>166.59</td>\n      <td>1036</td>\n      <td>1</td>\n      <td>166.59</td>\n      <td>2019</td>\n    </tr>\n    <tr>\n      <th>2</th>\n      <td>Recife</td>\n      <td>2019-02-10</td>\n      <td>12.94</td>\n      <td>983</td>\n      <td>5</td>\n      <td>64.70</td>\n      <td>2019</td>\n    </tr>\n    <tr>\n      <th>111</th>\n      <td>Fortaleza</td>\n      <td>2019-03-02</td>\n      <td>8.00</td>\n      <td>981</td>\n      <td>3</td>\n      <td>24.00</td>\n      <td>2019</td>\n    </tr>\n    <tr>\n      <th>187</th>\n      <td>Natal</td>\n      <td>2019-01-02</td>\n      <td>3.85</td>\n      <td>1035</td>\n      <td>3</td>\n      <td>11.55</td>\n      <td>2019</td>\n    </tr>\n  </tbody>\n</table>\n</div>"
     },
     "metadata": {},
     "execution_count": 17
    }
   ],
   "source": [
    "df.sample(5)"
   ]
  },
  {
   "cell_type": "code",
   "execution_count": 19,
   "metadata": {},
   "outputs": [],
   "source": [
    "#Extraindo o mês e o dia\n",
    "df['mes_venda'], df['dia_venda'] = (df['Data'].dt.month,df['Data'].dt.day)"
   ]
  },
  {
   "cell_type": "code",
   "execution_count": 20,
   "metadata": {},
   "outputs": [
    {
     "output_type": "execute_result",
     "data": {
      "text/plain": "        Cidade       Data  Vendas  LojaID  Qtde  Receita  Ano_venda  \\\n32     Aracaju 2018-01-01   42.97    1522     6   257.82       2018   \n224   Salvador 2019-01-02  178.30    1035     3   534.90       2019   \n59    Salvador 2019-01-01  138.27    1034     2   276.54       2019   \n41     Aracaju 2018-01-01  229.64    1520     8  1837.12       2018   \n54   Fortaleza 2019-01-01   16.73    1002     5    83.65       2019   \n\n     mes_venda  dia_venda  \n32           1          1  \n224          1          2  \n59           1          1  \n41           1          1  \n54           1          1  ",
      "text/html": "<div>\n<style scoped>\n    .dataframe tbody tr th:only-of-type {\n        vertical-align: middle;\n    }\n\n    .dataframe tbody tr th {\n        vertical-align: top;\n    }\n\n    .dataframe thead th {\n        text-align: right;\n    }\n</style>\n<table border=\"1\" class=\"dataframe\">\n  <thead>\n    <tr style=\"text-align: right;\">\n      <th></th>\n      <th>Cidade</th>\n      <th>Data</th>\n      <th>Vendas</th>\n      <th>LojaID</th>\n      <th>Qtde</th>\n      <th>Receita</th>\n      <th>Ano_venda</th>\n      <th>mes_venda</th>\n      <th>dia_venda</th>\n    </tr>\n  </thead>\n  <tbody>\n    <tr>\n      <th>32</th>\n      <td>Aracaju</td>\n      <td>2018-01-01</td>\n      <td>42.97</td>\n      <td>1522</td>\n      <td>6</td>\n      <td>257.82</td>\n      <td>2018</td>\n      <td>1</td>\n      <td>1</td>\n    </tr>\n    <tr>\n      <th>224</th>\n      <td>Salvador</td>\n      <td>2019-01-02</td>\n      <td>178.30</td>\n      <td>1035</td>\n      <td>3</td>\n      <td>534.90</td>\n      <td>2019</td>\n      <td>1</td>\n      <td>2</td>\n    </tr>\n    <tr>\n      <th>59</th>\n      <td>Salvador</td>\n      <td>2019-01-01</td>\n      <td>138.27</td>\n      <td>1034</td>\n      <td>2</td>\n      <td>276.54</td>\n      <td>2019</td>\n      <td>1</td>\n      <td>1</td>\n    </tr>\n    <tr>\n      <th>41</th>\n      <td>Aracaju</td>\n      <td>2018-01-01</td>\n      <td>229.64</td>\n      <td>1520</td>\n      <td>8</td>\n      <td>1837.12</td>\n      <td>2018</td>\n      <td>1</td>\n      <td>1</td>\n    </tr>\n    <tr>\n      <th>54</th>\n      <td>Fortaleza</td>\n      <td>2019-01-01</td>\n      <td>16.73</td>\n      <td>1002</td>\n      <td>5</td>\n      <td>83.65</td>\n      <td>2019</td>\n      <td>1</td>\n      <td>1</td>\n    </tr>\n  </tbody>\n</table>\n</div>"
     },
     "metadata": {},
     "execution_count": 20
    }
   ],
   "source": [
    "df.sample(5)"
   ]
  },
  {
   "cell_type": "code",
   "execution_count": 21,
   "metadata": {},
   "outputs": [
    {
     "output_type": "execute_result",
     "data": {
      "text/plain": "Timestamp('2018-01-01 00:00:00')"
     },
     "metadata": {},
     "execution_count": 21
    }
   ],
   "source": [
    "#Retornando a data mais antiga\n",
    "df['Data'].min()"
   ]
  },
  {
   "cell_type": "code",
   "execution_count": 22,
   "metadata": {},
   "outputs": [],
   "source": [
    "df['diferenca_dias'] = df['Data'] - df['Data'].min()"
   ]
  },
  {
   "cell_type": "code",
   "execution_count": 23,
   "metadata": {},
   "outputs": [
    {
     "output_type": "execute_result",
     "data": {
      "text/plain": "        Cidade       Data  Vendas  LojaID  Qtde  Receita  Ano_venda  \\\n103     Recife 2019-01-01   41.65     982     3   124.95       2019   \n41   Fortaleza 2019-02-13  191.29    1002     3   573.87       2019   \n86      Recife 2019-01-01   17.83     982     8   142.64       2019   \n52      Recife 2019-01-01   11.87     981     6    71.22       2019   \n224      Natal 2019-01-02  178.30    1035     3   534.90       2019   \n\n     mes_venda  dia_venda diferenca_dias  \n103          1          1       365 days  \n41           2         13       408 days  \n86           1          1       365 days  \n52           1          1       365 days  \n224          1          2       366 days  ",
      "text/html": "<div>\n<style scoped>\n    .dataframe tbody tr th:only-of-type {\n        vertical-align: middle;\n    }\n\n    .dataframe tbody tr th {\n        vertical-align: top;\n    }\n\n    .dataframe thead th {\n        text-align: right;\n    }\n</style>\n<table border=\"1\" class=\"dataframe\">\n  <thead>\n    <tr style=\"text-align: right;\">\n      <th></th>\n      <th>Cidade</th>\n      <th>Data</th>\n      <th>Vendas</th>\n      <th>LojaID</th>\n      <th>Qtde</th>\n      <th>Receita</th>\n      <th>Ano_venda</th>\n      <th>mes_venda</th>\n      <th>dia_venda</th>\n      <th>diferenca_dias</th>\n    </tr>\n  </thead>\n  <tbody>\n    <tr>\n      <th>103</th>\n      <td>Recife</td>\n      <td>2019-01-01</td>\n      <td>41.65</td>\n      <td>982</td>\n      <td>3</td>\n      <td>124.95</td>\n      <td>2019</td>\n      <td>1</td>\n      <td>1</td>\n      <td>365 days</td>\n    </tr>\n    <tr>\n      <th>41</th>\n      <td>Fortaleza</td>\n      <td>2019-02-13</td>\n      <td>191.29</td>\n      <td>1002</td>\n      <td>3</td>\n      <td>573.87</td>\n      <td>2019</td>\n      <td>2</td>\n      <td>13</td>\n      <td>408 days</td>\n    </tr>\n    <tr>\n      <th>86</th>\n      <td>Recife</td>\n      <td>2019-01-01</td>\n      <td>17.83</td>\n      <td>982</td>\n      <td>8</td>\n      <td>142.64</td>\n      <td>2019</td>\n      <td>1</td>\n      <td>1</td>\n      <td>365 days</td>\n    </tr>\n    <tr>\n      <th>52</th>\n      <td>Recife</td>\n      <td>2019-01-01</td>\n      <td>11.87</td>\n      <td>981</td>\n      <td>6</td>\n      <td>71.22</td>\n      <td>2019</td>\n      <td>1</td>\n      <td>1</td>\n      <td>365 days</td>\n    </tr>\n    <tr>\n      <th>224</th>\n      <td>Natal</td>\n      <td>2019-01-02</td>\n      <td>178.30</td>\n      <td>1035</td>\n      <td>3</td>\n      <td>534.90</td>\n      <td>2019</td>\n      <td>1</td>\n      <td>2</td>\n      <td>366 days</td>\n    </tr>\n  </tbody>\n</table>\n</div>"
     },
     "metadata": {},
     "execution_count": 23
    }
   ],
   "source": [
    "df.sample(5)"
   ]
  },
  {
   "cell_type": "code",
   "execution_count": 24,
   "metadata": {},
   "outputs": [],
   "source": [
    "#Criando coluna de trimestre\n",
    "df['trimestre_venda'] = df['Data'].dt.quarter"
   ]
  },
  {
   "cell_type": "code",
   "execution_count": 25,
   "metadata": {},
   "outputs": [
    {
     "output_type": "execute_result",
     "data": {
      "text/plain": "     Cidade       Data  Vendas  LojaID  Qtde  Receita  Ano_venda  mes_venda  \\\n2    Recife 2019-02-10   12.94     983     5    64.70       2019          2   \n72   Recife 2019-01-01   42.32     982     2    84.64       2019          1   \n105   Natal 2019-01-02   32.83    1037     1    32.83       2019          1   \n15   Recife 2019-01-01    7.45     981     2    14.90       2019          1   \n53   Recife 2019-01-01   37.05     983     6   222.30       2019          1   \n\n     dia_venda diferenca_dias  trimestre_venda  \n2           10       405 days                1  \n72           1       365 days                1  \n105          2       366 days                1  \n15           1       365 days                1  \n53           1       365 days                1  ",
      "text/html": "<div>\n<style scoped>\n    .dataframe tbody tr th:only-of-type {\n        vertical-align: middle;\n    }\n\n    .dataframe tbody tr th {\n        vertical-align: top;\n    }\n\n    .dataframe thead th {\n        text-align: right;\n    }\n</style>\n<table border=\"1\" class=\"dataframe\">\n  <thead>\n    <tr style=\"text-align: right;\">\n      <th></th>\n      <th>Cidade</th>\n      <th>Data</th>\n      <th>Vendas</th>\n      <th>LojaID</th>\n      <th>Qtde</th>\n      <th>Receita</th>\n      <th>Ano_venda</th>\n      <th>mes_venda</th>\n      <th>dia_venda</th>\n      <th>diferenca_dias</th>\n      <th>trimestre_venda</th>\n    </tr>\n  </thead>\n  <tbody>\n    <tr>\n      <th>2</th>\n      <td>Recife</td>\n      <td>2019-02-10</td>\n      <td>12.94</td>\n      <td>983</td>\n      <td>5</td>\n      <td>64.70</td>\n      <td>2019</td>\n      <td>2</td>\n      <td>10</td>\n      <td>405 days</td>\n      <td>1</td>\n    </tr>\n    <tr>\n      <th>72</th>\n      <td>Recife</td>\n      <td>2019-01-01</td>\n      <td>42.32</td>\n      <td>982</td>\n      <td>2</td>\n      <td>84.64</td>\n      <td>2019</td>\n      <td>1</td>\n      <td>1</td>\n      <td>365 days</td>\n      <td>1</td>\n    </tr>\n    <tr>\n      <th>105</th>\n      <td>Natal</td>\n      <td>2019-01-02</td>\n      <td>32.83</td>\n      <td>1037</td>\n      <td>1</td>\n      <td>32.83</td>\n      <td>2019</td>\n      <td>1</td>\n      <td>2</td>\n      <td>366 days</td>\n      <td>1</td>\n    </tr>\n    <tr>\n      <th>15</th>\n      <td>Recife</td>\n      <td>2019-01-01</td>\n      <td>7.45</td>\n      <td>981</td>\n      <td>2</td>\n      <td>14.90</td>\n      <td>2019</td>\n      <td>1</td>\n      <td>1</td>\n      <td>365 days</td>\n      <td>1</td>\n    </tr>\n    <tr>\n      <th>53</th>\n      <td>Recife</td>\n      <td>2019-01-01</td>\n      <td>37.05</td>\n      <td>983</td>\n      <td>6</td>\n      <td>222.30</td>\n      <td>2019</td>\n      <td>1</td>\n      <td>1</td>\n      <td>365 days</td>\n      <td>1</td>\n    </tr>\n  </tbody>\n</table>\n</div>"
     },
     "metadata": {},
     "execution_count": 25
    }
   ],
   "source": [
    "df.sample(5)"
   ]
  },
  {
   "cell_type": "code",
   "execution_count": 27,
   "metadata": {},
   "outputs": [
    {
     "output_type": "execute_result",
     "data": {
      "text/plain": "        Cidade       Data  Vendas  LojaID  Qtde  Receita  Ano_venda  \\\n108  Fortaleza 2019-03-02  152.89     981     4   611.56       2019   \n109  Fortaleza 2019-03-02   18.90     982     6   113.40       2019   \n110  Fortaleza 2019-03-02   51.98     983     6   311.88       2019   \n111  Fortaleza 2019-03-02    8.00     981     3    24.00       2019   \n112  Fortaleza 2019-03-02  133.59     982     1   133.59       2019   \n\n     mes_venda  dia_venda diferenca_dias  trimestre_venda  \n108          3          2       425 days                1  \n109          3          2       425 days                1  \n110          3          2       425 days                1  \n111          3          2       425 days                1  \n112          3          2       425 days                1  ",
      "text/html": "<div>\n<style scoped>\n    .dataframe tbody tr th:only-of-type {\n        vertical-align: middle;\n    }\n\n    .dataframe tbody tr th {\n        vertical-align: top;\n    }\n\n    .dataframe thead th {\n        text-align: right;\n    }\n</style>\n<table border=\"1\" class=\"dataframe\">\n  <thead>\n    <tr style=\"text-align: right;\">\n      <th></th>\n      <th>Cidade</th>\n      <th>Data</th>\n      <th>Vendas</th>\n      <th>LojaID</th>\n      <th>Qtde</th>\n      <th>Receita</th>\n      <th>Ano_venda</th>\n      <th>mes_venda</th>\n      <th>dia_venda</th>\n      <th>diferenca_dias</th>\n      <th>trimestre_venda</th>\n    </tr>\n  </thead>\n  <tbody>\n    <tr>\n      <th>108</th>\n      <td>Fortaleza</td>\n      <td>2019-03-02</td>\n      <td>152.89</td>\n      <td>981</td>\n      <td>4</td>\n      <td>611.56</td>\n      <td>2019</td>\n      <td>3</td>\n      <td>2</td>\n      <td>425 days</td>\n      <td>1</td>\n    </tr>\n    <tr>\n      <th>109</th>\n      <td>Fortaleza</td>\n      <td>2019-03-02</td>\n      <td>18.90</td>\n      <td>982</td>\n      <td>6</td>\n      <td>113.40</td>\n      <td>2019</td>\n      <td>3</td>\n      <td>2</td>\n      <td>425 days</td>\n      <td>1</td>\n    </tr>\n    <tr>\n      <th>110</th>\n      <td>Fortaleza</td>\n      <td>2019-03-02</td>\n      <td>51.98</td>\n      <td>983</td>\n      <td>6</td>\n      <td>311.88</td>\n      <td>2019</td>\n      <td>3</td>\n      <td>2</td>\n      <td>425 days</td>\n      <td>1</td>\n    </tr>\n    <tr>\n      <th>111</th>\n      <td>Fortaleza</td>\n      <td>2019-03-02</td>\n      <td>8.00</td>\n      <td>981</td>\n      <td>3</td>\n      <td>24.00</td>\n      <td>2019</td>\n      <td>3</td>\n      <td>2</td>\n      <td>425 days</td>\n      <td>1</td>\n    </tr>\n    <tr>\n      <th>112</th>\n      <td>Fortaleza</td>\n      <td>2019-03-02</td>\n      <td>133.59</td>\n      <td>982</td>\n      <td>1</td>\n      <td>133.59</td>\n      <td>2019</td>\n      <td>3</td>\n      <td>2</td>\n      <td>425 days</td>\n      <td>1</td>\n    </tr>\n  </tbody>\n</table>\n</div>"
     },
     "metadata": {},
     "execution_count": 27
    }
   ],
   "source": [
    "#Filtrando as vendas de 2019 do mês de março\n",
    "vendas_marco_2019 = df.loc[(df['Data'].dt.year == 2019) & (df['Data'].dt.month == 3)]\n",
    "vendas_marco_2019.head()"
   ]
  },
  {
   "cell_type": "code",
   "execution_count": 29,
   "metadata": {},
   "outputs": [
    {
     "output_type": "execute_result",
     "data": {
      "text/plain": "        Cidade       Data  Vendas  LojaID  Qtde  Receita  Ano_venda  \\\n137  Fortaleza 2019-03-02   51.99     983     3   155.97       2019   \n121  Fortaleza 2019-03-02   41.55     981     3   124.65       2019   \n2        Natal 2019-03-11  308.00     852     3   924.00       2019   \n19       Natal 2019-03-31  282.00     854     2   564.00       2019   \n139   Salvador 2019-03-02  169.01    1036     1   169.01       2019   \n131     Recife 2019-03-02  139.07     982     6   834.42       2019   \n8        Natal 2019-03-27  667.00     852     4  2668.00       2019   \n135     Recife 2019-03-02   10.79     983     5    53.95       2019   \n138  Fortaleza 2019-03-02  150.38     983     6   902.28       2019   \n141   Salvador 2019-03-02    9.08    1036     1     9.08       2019   \n139     Recife 2019-03-02  141.16     980     7   988.12       2019   \n32       Natal 2019-03-17  244.00     854     2   488.00       2019   \n\n     mes_venda  dia_venda diferenca_dias  trimestre_venda  \n137          3          2       425 days                1  \n121          3          2       425 days                1  \n2            3         11       434 days                1  \n19           3         31       454 days                1  \n139          3          2       425 days                1  \n131          3          2       425 days                1  \n8            3         27       450 days                1  \n135          3          2       425 days                1  \n138          3          2       425 days                1  \n141          3          2       425 days                1  \n139          3          2       425 days                1  \n32           3         17       440 days                1  ",
      "text/html": "<div>\n<style scoped>\n    .dataframe tbody tr th:only-of-type {\n        vertical-align: middle;\n    }\n\n    .dataframe tbody tr th {\n        vertical-align: top;\n    }\n\n    .dataframe thead th {\n        text-align: right;\n    }\n</style>\n<table border=\"1\" class=\"dataframe\">\n  <thead>\n    <tr style=\"text-align: right;\">\n      <th></th>\n      <th>Cidade</th>\n      <th>Data</th>\n      <th>Vendas</th>\n      <th>LojaID</th>\n      <th>Qtde</th>\n      <th>Receita</th>\n      <th>Ano_venda</th>\n      <th>mes_venda</th>\n      <th>dia_venda</th>\n      <th>diferenca_dias</th>\n      <th>trimestre_venda</th>\n    </tr>\n  </thead>\n  <tbody>\n    <tr>\n      <th>137</th>\n      <td>Fortaleza</td>\n      <td>2019-03-02</td>\n      <td>51.99</td>\n      <td>983</td>\n      <td>3</td>\n      <td>155.97</td>\n      <td>2019</td>\n      <td>3</td>\n      <td>2</td>\n      <td>425 days</td>\n      <td>1</td>\n    </tr>\n    <tr>\n      <th>121</th>\n      <td>Fortaleza</td>\n      <td>2019-03-02</td>\n      <td>41.55</td>\n      <td>981</td>\n      <td>3</td>\n      <td>124.65</td>\n      <td>2019</td>\n      <td>3</td>\n      <td>2</td>\n      <td>425 days</td>\n      <td>1</td>\n    </tr>\n    <tr>\n      <th>2</th>\n      <td>Natal</td>\n      <td>2019-03-11</td>\n      <td>308.00</td>\n      <td>852</td>\n      <td>3</td>\n      <td>924.00</td>\n      <td>2019</td>\n      <td>3</td>\n      <td>11</td>\n      <td>434 days</td>\n      <td>1</td>\n    </tr>\n    <tr>\n      <th>19</th>\n      <td>Natal</td>\n      <td>2019-03-31</td>\n      <td>282.00</td>\n      <td>854</td>\n      <td>2</td>\n      <td>564.00</td>\n      <td>2019</td>\n      <td>3</td>\n      <td>31</td>\n      <td>454 days</td>\n      <td>1</td>\n    </tr>\n    <tr>\n      <th>139</th>\n      <td>Salvador</td>\n      <td>2019-03-02</td>\n      <td>169.01</td>\n      <td>1036</td>\n      <td>1</td>\n      <td>169.01</td>\n      <td>2019</td>\n      <td>3</td>\n      <td>2</td>\n      <td>425 days</td>\n      <td>1</td>\n    </tr>\n    <tr>\n      <th>131</th>\n      <td>Recife</td>\n      <td>2019-03-02</td>\n      <td>139.07</td>\n      <td>982</td>\n      <td>6</td>\n      <td>834.42</td>\n      <td>2019</td>\n      <td>3</td>\n      <td>2</td>\n      <td>425 days</td>\n      <td>1</td>\n    </tr>\n    <tr>\n      <th>8</th>\n      <td>Natal</td>\n      <td>2019-03-27</td>\n      <td>667.00</td>\n      <td>852</td>\n      <td>4</td>\n      <td>2668.00</td>\n      <td>2019</td>\n      <td>3</td>\n      <td>27</td>\n      <td>450 days</td>\n      <td>1</td>\n    </tr>\n    <tr>\n      <th>135</th>\n      <td>Recife</td>\n      <td>2019-03-02</td>\n      <td>10.79</td>\n      <td>983</td>\n      <td>5</td>\n      <td>53.95</td>\n      <td>2019</td>\n      <td>3</td>\n      <td>2</td>\n      <td>425 days</td>\n      <td>1</td>\n    </tr>\n    <tr>\n      <th>138</th>\n      <td>Fortaleza</td>\n      <td>2019-03-02</td>\n      <td>150.38</td>\n      <td>983</td>\n      <td>6</td>\n      <td>902.28</td>\n      <td>2019</td>\n      <td>3</td>\n      <td>2</td>\n      <td>425 days</td>\n      <td>1</td>\n    </tr>\n    <tr>\n      <th>141</th>\n      <td>Salvador</td>\n      <td>2019-03-02</td>\n      <td>9.08</td>\n      <td>1036</td>\n      <td>1</td>\n      <td>9.08</td>\n      <td>2019</td>\n      <td>3</td>\n      <td>2</td>\n      <td>425 days</td>\n      <td>1</td>\n    </tr>\n    <tr>\n      <th>139</th>\n      <td>Recife</td>\n      <td>2019-03-02</td>\n      <td>141.16</td>\n      <td>980</td>\n      <td>7</td>\n      <td>988.12</td>\n      <td>2019</td>\n      <td>3</td>\n      <td>2</td>\n      <td>425 days</td>\n      <td>1</td>\n    </tr>\n    <tr>\n      <th>32</th>\n      <td>Natal</td>\n      <td>2019-03-17</td>\n      <td>244.00</td>\n      <td>854</td>\n      <td>2</td>\n      <td>488.00</td>\n      <td>2019</td>\n      <td>3</td>\n      <td>17</td>\n      <td>440 days</td>\n      <td>1</td>\n    </tr>\n  </tbody>\n</table>\n</div>"
     },
     "metadata": {},
     "execution_count": 29
    }
   ],
   "source": [
    "vendas_marco_2019.sample(12)"
   ]
  }
 ]
}