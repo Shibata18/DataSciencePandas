{
 "metadata": {
  "language_info": {
   "codemirror_mode": {
    "name": "ipython",
    "version": 3
   },
   "file_extension": ".py",
   "mimetype": "text/x-python",
   "name": "python",
   "nbconvert_exporter": "python",
   "pygments_lexer": "ipython3",
   "version": "3.6.9-final"
  },
  "orig_nbformat": 2,
  "kernelspec": {
   "name": "python_defaultSpec_1598207020965",
   "display_name": "Python 3.6.9 64-bit"
  }
 },
 "nbformat": 4,
 "nbformat_minor": 2,
 "cells": [
  {
   "cell_type": "markdown",
   "metadata": {},
   "source": [
    "# Python para análise de dados (Pandas) \n",
    "**Douglas**"
   ]
  },
  {
   "cell_type": "code",
   "execution_count": 1,
   "metadata": {},
   "outputs": [],
   "source": [
    "#importando a biblioteca pandas\n",
    "import pandas as pd"
   ]
  },
  {
   "cell_type": "code",
   "execution_count": 9,
   "metadata": {
    "tags": []
   },
   "outputs": [],
   "source": [
    "df = pd.read_csv('../datasets/Gapminder.csv',error_bad_lines=False,sep=';')"
   ]
  },
  {
   "cell_type": "code",
   "execution_count": 10,
   "metadata": {},
   "outputs": [
    {
     "output_type": "execute_result",
     "data": {
      "text/plain": "       country continent  year  lifeExp       pop   gdpPercap\n0  Afghanistan      Asia  1952   28.801   8425333  779.445314\n1  Afghanistan      Asia  1957   30.332   9240934  820.853030\n2  Afghanistan      Asia  1962   31.997  10267083  853.100710\n3  Afghanistan      Asia  1967   34.020  11537966  836.197138\n4  Afghanistan      Asia  1972   36.088  13079460  739.981106",
      "text/html": "<div>\n<style scoped>\n    .dataframe tbody tr th:only-of-type {\n        vertical-align: middle;\n    }\n\n    .dataframe tbody tr th {\n        vertical-align: top;\n    }\n\n    .dataframe thead th {\n        text-align: right;\n    }\n</style>\n<table border=\"1\" class=\"dataframe\">\n  <thead>\n    <tr style=\"text-align: right;\">\n      <th></th>\n      <th>country</th>\n      <th>continent</th>\n      <th>year</th>\n      <th>lifeExp</th>\n      <th>pop</th>\n      <th>gdpPercap</th>\n    </tr>\n  </thead>\n  <tbody>\n    <tr>\n      <th>0</th>\n      <td>Afghanistan</td>\n      <td>Asia</td>\n      <td>1952</td>\n      <td>28.801</td>\n      <td>8425333</td>\n      <td>779.445314</td>\n    </tr>\n    <tr>\n      <th>1</th>\n      <td>Afghanistan</td>\n      <td>Asia</td>\n      <td>1957</td>\n      <td>30.332</td>\n      <td>9240934</td>\n      <td>820.853030</td>\n    </tr>\n    <tr>\n      <th>2</th>\n      <td>Afghanistan</td>\n      <td>Asia</td>\n      <td>1962</td>\n      <td>31.997</td>\n      <td>10267083</td>\n      <td>853.100710</td>\n    </tr>\n    <tr>\n      <th>3</th>\n      <td>Afghanistan</td>\n      <td>Asia</td>\n      <td>1967</td>\n      <td>34.020</td>\n      <td>11537966</td>\n      <td>836.197138</td>\n    </tr>\n    <tr>\n      <th>4</th>\n      <td>Afghanistan</td>\n      <td>Asia</td>\n      <td>1972</td>\n      <td>36.088</td>\n      <td>13079460</td>\n      <td>739.981106</td>\n    </tr>\n  </tbody>\n</table>\n</div>"
     },
     "metadata": {},
     "execution_count": 10
    }
   ],
   "source": [
    "#lendo as primeiras linhas \n",
    "df.head()"
   ]
  },
  {
   "cell_type": "code",
   "execution_count": 12,
   "metadata": {},
   "outputs": [
    {
     "output_type": "execute_result",
     "data": {
      "text/plain": "          Pais continente   ano  Expectativa de vida  Pop Total         PIB\n0  Afghanistan       Asia  1952               28.801    8425333  779.445314\n1  Afghanistan       Asia  1957               30.332    9240934  820.853030\n2  Afghanistan       Asia  1962               31.997   10267083  853.100710\n3  Afghanistan       Asia  1967               34.020   11537966  836.197138\n4  Afghanistan       Asia  1972               36.088   13079460  739.981106",
      "text/html": "<div>\n<style scoped>\n    .dataframe tbody tr th:only-of-type {\n        vertical-align: middle;\n    }\n\n    .dataframe tbody tr th {\n        vertical-align: top;\n    }\n\n    .dataframe thead th {\n        text-align: right;\n    }\n</style>\n<table border=\"1\" class=\"dataframe\">\n  <thead>\n    <tr style=\"text-align: right;\">\n      <th></th>\n      <th>Pais</th>\n      <th>continente</th>\n      <th>ano</th>\n      <th>Expectativa de vida</th>\n      <th>Pop Total</th>\n      <th>PIB</th>\n    </tr>\n  </thead>\n  <tbody>\n    <tr>\n      <th>0</th>\n      <td>Afghanistan</td>\n      <td>Asia</td>\n      <td>1952</td>\n      <td>28.801</td>\n      <td>8425333</td>\n      <td>779.445314</td>\n    </tr>\n    <tr>\n      <th>1</th>\n      <td>Afghanistan</td>\n      <td>Asia</td>\n      <td>1957</td>\n      <td>30.332</td>\n      <td>9240934</td>\n      <td>820.853030</td>\n    </tr>\n    <tr>\n      <th>2</th>\n      <td>Afghanistan</td>\n      <td>Asia</td>\n      <td>1962</td>\n      <td>31.997</td>\n      <td>10267083</td>\n      <td>853.100710</td>\n    </tr>\n    <tr>\n      <th>3</th>\n      <td>Afghanistan</td>\n      <td>Asia</td>\n      <td>1967</td>\n      <td>34.020</td>\n      <td>11537966</td>\n      <td>836.197138</td>\n    </tr>\n    <tr>\n      <th>4</th>\n      <td>Afghanistan</td>\n      <td>Asia</td>\n      <td>1972</td>\n      <td>36.088</td>\n      <td>13079460</td>\n      <td>739.981106</td>\n    </tr>\n  </tbody>\n</table>\n</div>"
     },
     "metadata": {},
     "execution_count": 12
    }
   ],
   "source": [
    "df =df.rename(columns={\"country\":\"Pais\",\"continent\":\"continente\",\"year\":\"ano\",\"lifeExp\":\"Expectativa de vida\",\"pop\":\"Pop Total\",\"gdpPercap\":\"PIB\"})\n",
    "df.head()"
   ]
  },
  {
   "cell_type": "code",
   "execution_count": 14,
   "metadata": {},
   "outputs": [
    {
     "output_type": "execute_result",
     "data": {
      "text/plain": "(3312, 6)"
     },
     "metadata": {},
     "execution_count": 14
    }
   ],
   "source": [
    "#Total de linhas e colunas\n",
    "df.shape"
   ]
  },
  {
   "cell_type": "code",
   "execution_count": 15,
   "metadata": {},
   "outputs": [
    {
     "output_type": "execute_result",
     "data": {
      "text/plain": "Index(['Pais', 'continente', 'ano', 'Expectativa de vida', 'Pop Total', 'PIB'], dtype='object')"
     },
     "metadata": {},
     "execution_count": 15
    }
   ],
   "source": [
    "#Nome das colunas\n",
    "df.columns"
   ]
  },
  {
   "cell_type": "code",
   "execution_count": 17,
   "metadata": {},
   "outputs": [
    {
     "output_type": "execute_result",
     "data": {
      "text/plain": "Pais                    object\ncontinente              object\nano                      int64\nExpectativa de vida    float64\nPop Total                int64\nPIB                    float64\ndtype: object"
     },
     "metadata": {},
     "execution_count": 17
    }
   ],
   "source": [
    "#Tipo de dados das colunas\n",
    "df.dtypes"
   ]
  },
  {
   "cell_type": "code",
   "execution_count": 18,
   "metadata": {},
   "outputs": [
    {
     "output_type": "execute_result",
     "data": {
      "text/plain": "          Pais continente   ano  Expectativa de vida  Pop Total         PIB\n3307  Zimbabwe     Africa  1987               62.351    9216418  706.157306\n3308  Zimbabwe     Africa  1992               60.377   10704340  693.420786\n3309  Zimbabwe     Africa  1997               46.809   11404948  792.449960\n3310  Zimbabwe     Africa  2002               39.989   11926563  672.038623\n3311  Zimbabwe     Africa  2007               43.487   12311143  469.709298",
      "text/html": "<div>\n<style scoped>\n    .dataframe tbody tr th:only-of-type {\n        vertical-align: middle;\n    }\n\n    .dataframe tbody tr th {\n        vertical-align: top;\n    }\n\n    .dataframe thead th {\n        text-align: right;\n    }\n</style>\n<table border=\"1\" class=\"dataframe\">\n  <thead>\n    <tr style=\"text-align: right;\">\n      <th></th>\n      <th>Pais</th>\n      <th>continente</th>\n      <th>ano</th>\n      <th>Expectativa de vida</th>\n      <th>Pop Total</th>\n      <th>PIB</th>\n    </tr>\n  </thead>\n  <tbody>\n    <tr>\n      <th>3307</th>\n      <td>Zimbabwe</td>\n      <td>Africa</td>\n      <td>1987</td>\n      <td>62.351</td>\n      <td>9216418</td>\n      <td>706.157306</td>\n    </tr>\n    <tr>\n      <th>3308</th>\n      <td>Zimbabwe</td>\n      <td>Africa</td>\n      <td>1992</td>\n      <td>60.377</td>\n      <td>10704340</td>\n      <td>693.420786</td>\n    </tr>\n    <tr>\n      <th>3309</th>\n      <td>Zimbabwe</td>\n      <td>Africa</td>\n      <td>1997</td>\n      <td>46.809</td>\n      <td>11404948</td>\n      <td>792.449960</td>\n    </tr>\n    <tr>\n      <th>3310</th>\n      <td>Zimbabwe</td>\n      <td>Africa</td>\n      <td>2002</td>\n      <td>39.989</td>\n      <td>11926563</td>\n      <td>672.038623</td>\n    </tr>\n    <tr>\n      <th>3311</th>\n      <td>Zimbabwe</td>\n      <td>Africa</td>\n      <td>2007</td>\n      <td>43.487</td>\n      <td>12311143</td>\n      <td>469.709298</td>\n    </tr>\n  </tbody>\n</table>\n</div>"
     },
     "metadata": {},
     "execution_count": 18
    }
   ],
   "source": [
    "df.tail()"
   ]
  },
  {
   "cell_type": "code",
   "execution_count": 19,
   "metadata": {},
   "outputs": [
    {
     "output_type": "execute_result",
     "data": {
      "text/plain": "               ano  Expectativa de vida     Pop Total            PIB\ncount  3312.000000          3312.000000  3.312000e+03    3312.000000\nmean   1980.301630            65.246871  3.161489e+07   11317.115805\nstd      16.927294            11.768412  1.041193e+08   11369.142739\nmin    1950.000000            23.599000  5.941200e+04     241.165877\n25%    1967.000000            58.337500  2.678572e+06    2514.625266\n50%    1982.000000            69.610000  7.557218e+06    7838.505123\n75%    1996.000000            73.657750  1.958522e+07   17357.879170\nmax    2007.000000            82.670000  1.318683e+09  113523.132900",
      "text/html": "<div>\n<style scoped>\n    .dataframe tbody tr th:only-of-type {\n        vertical-align: middle;\n    }\n\n    .dataframe tbody tr th {\n        vertical-align: top;\n    }\n\n    .dataframe thead th {\n        text-align: right;\n    }\n</style>\n<table border=\"1\" class=\"dataframe\">\n  <thead>\n    <tr style=\"text-align: right;\">\n      <th></th>\n      <th>ano</th>\n      <th>Expectativa de vida</th>\n      <th>Pop Total</th>\n      <th>PIB</th>\n    </tr>\n  </thead>\n  <tbody>\n    <tr>\n      <th>count</th>\n      <td>3312.000000</td>\n      <td>3312.000000</td>\n      <td>3.312000e+03</td>\n      <td>3312.000000</td>\n    </tr>\n    <tr>\n      <th>mean</th>\n      <td>1980.301630</td>\n      <td>65.246871</td>\n      <td>3.161489e+07</td>\n      <td>11317.115805</td>\n    </tr>\n    <tr>\n      <th>std</th>\n      <td>16.927294</td>\n      <td>11.768412</td>\n      <td>1.041193e+08</td>\n      <td>11369.142739</td>\n    </tr>\n    <tr>\n      <th>min</th>\n      <td>1950.000000</td>\n      <td>23.599000</td>\n      <td>5.941200e+04</td>\n      <td>241.165877</td>\n    </tr>\n    <tr>\n      <th>25%</th>\n      <td>1967.000000</td>\n      <td>58.337500</td>\n      <td>2.678572e+06</td>\n      <td>2514.625266</td>\n    </tr>\n    <tr>\n      <th>50%</th>\n      <td>1982.000000</td>\n      <td>69.610000</td>\n      <td>7.557218e+06</td>\n      <td>7838.505123</td>\n    </tr>\n    <tr>\n      <th>75%</th>\n      <td>1996.000000</td>\n      <td>73.657750</td>\n      <td>1.958522e+07</td>\n      <td>17357.879170</td>\n    </tr>\n    <tr>\n      <th>max</th>\n      <td>2007.000000</td>\n      <td>82.670000</td>\n      <td>1.318683e+09</td>\n      <td>113523.132900</td>\n    </tr>\n  </tbody>\n</table>\n</div>"
     },
     "metadata": {},
     "execution_count": 19
    }
   ],
   "source": [
    "df.describe()"
   ]
  },
  {
   "cell_type": "code",
   "execution_count": 20,
   "metadata": {},
   "outputs": [
    {
     "output_type": "execute_result",
     "data": {
      "text/plain": "array(['Asia', 'Europe', 'Africa', 'Americas', nan, 'FSU', 'Oceania'],\n      dtype=object)"
     },
     "metadata": {},
     "execution_count": 20
    }
   ],
   "source": [
    "#Mostra os valores únicos dos continentes\n",
    "df['continente'].unique()"
   ]
  },
  {
   "cell_type": "code",
   "execution_count": 21,
   "metadata": {},
   "outputs": [
    {
     "output_type": "execute_result",
     "data": {
      "text/plain": "     Pais continente   ano  Expectativa de vida  Pop Total          PIB\n975  Fiji    Oceania  1962               56.494     421869  2039.393277\n976  Fiji    Oceania  1967               58.607     485000  2170.073285\n977  Fiji    Oceania  1972               60.642     544000  2797.759484\n978  Fiji    Oceania  1977               62.669     599339  3182.569600\n979  Fiji    Oceania  1982               64.683     658906  3209.257468",
      "text/html": "<div>\n<style scoped>\n    .dataframe tbody tr th:only-of-type {\n        vertical-align: middle;\n    }\n\n    .dataframe tbody tr th {\n        vertical-align: top;\n    }\n\n    .dataframe thead th {\n        text-align: right;\n    }\n</style>\n<table border=\"1\" class=\"dataframe\">\n  <thead>\n    <tr style=\"text-align: right;\">\n      <th></th>\n      <th>Pais</th>\n      <th>continente</th>\n      <th>ano</th>\n      <th>Expectativa de vida</th>\n      <th>Pop Total</th>\n      <th>PIB</th>\n    </tr>\n  </thead>\n  <tbody>\n    <tr>\n      <th>975</th>\n      <td>Fiji</td>\n      <td>Oceania</td>\n      <td>1962</td>\n      <td>56.494</td>\n      <td>421869</td>\n      <td>2039.393277</td>\n    </tr>\n    <tr>\n      <th>976</th>\n      <td>Fiji</td>\n      <td>Oceania</td>\n      <td>1967</td>\n      <td>58.607</td>\n      <td>485000</td>\n      <td>2170.073285</td>\n    </tr>\n    <tr>\n      <th>977</th>\n      <td>Fiji</td>\n      <td>Oceania</td>\n      <td>1972</td>\n      <td>60.642</td>\n      <td>544000</td>\n      <td>2797.759484</td>\n    </tr>\n    <tr>\n      <th>978</th>\n      <td>Fiji</td>\n      <td>Oceania</td>\n      <td>1977</td>\n      <td>62.669</td>\n      <td>599339</td>\n      <td>3182.569600</td>\n    </tr>\n    <tr>\n      <th>979</th>\n      <td>Fiji</td>\n      <td>Oceania</td>\n      <td>1982</td>\n      <td>64.683</td>\n      <td>658906</td>\n      <td>3209.257468</td>\n    </tr>\n  </tbody>\n</table>\n</div>"
     },
     "metadata": {},
     "execution_count": 21
    }
   ],
   "source": [
    "# Loc para localizar\n",
    "Oceania = df.loc[df['continente']=='Oceania']\n",
    "Oceania.head()"
   ]
  },
  {
   "cell_type": "code",
   "execution_count": 23,
   "metadata": {},
   "outputs": [
    {
     "output_type": "execute_result",
     "data": {
      "text/plain": "continente\nAfrica      51\nAmericas    25\nAsia        41\nEurope      35\nFSU          6\nOceania      3\nName: Pais, dtype: int64"
     },
     "metadata": {},
     "execution_count": 23
    }
   ],
   "source": [
    "#Agrupa por continente e conta a quantidade de pais para cada continente\n",
    "df.groupby('continente')['Pais'].nunique()"
   ]
  },
  {
   "cell_type": "code",
   "execution_count": 24,
   "metadata": {},
   "outputs": [
    {
     "output_type": "execute_result",
     "data": {
      "text/plain": "ano\n1950    62.002568\n1951    65.904167\n1952    49.206867\n1953    66.674563\n1954    67.459817\n1955    67.806757\n1956    67.950637\n1957    51.614590\n1958    68.815936\n1959    68.226579\n1960    68.470837\n1961    68.862480\n1962    54.035234\n1963    69.595735\n1964    70.063105\n1965    70.259881\n1966    70.447526\n1967    56.263629\n1968    70.689081\n1969    70.653896\n1970    70.961141\n1971    71.103976\n1972    58.474481\n1973    71.500338\n1974    71.778504\n1975    71.939218\n1976    72.158050\n1977    60.429090\n1978    72.717567\n1979    73.018717\n1980    73.064524\n1981    73.337399\n1982    62.365871\n1983    73.787778\n1984    74.100741\n1985    74.112222\n1986    74.452222\n1987    63.984860\n1988    74.760000\n1989    74.924444\n1990    74.283437\n1991    74.374848\n1992    65.008443\n1993    74.324545\n1994    74.456667\n1995    74.552727\n1996    75.029394\n1997    65.873799\n1998    75.569697\n1999    75.703636\n2000    76.026364\n2001    76.257879\n2002    66.835695\n2003    76.586667\n2004    76.921563\n2005    76.718667\n2006    77.887778\n2007    67.868557\nName: Expectativa de vida, dtype: float64"
     },
     "metadata": {},
     "execution_count": 24
    }
   ],
   "source": [
    "# Para cada ano qual a expectativa de vida média\n",
    "df.groupby('ano')['Expectativa de vida'].mean()"
   ]
  },
  {
   "cell_type": "code",
   "execution_count": 25,
   "metadata": {},
   "outputs": [
    {
     "output_type": "execute_result",
     "data": {
      "text/plain": "37482287.5451553"
     },
     "metadata": {},
     "execution_count": 25
    }
   ],
   "source": [
    "df['PIB'].sum()"
   ]
  }
 ]
}